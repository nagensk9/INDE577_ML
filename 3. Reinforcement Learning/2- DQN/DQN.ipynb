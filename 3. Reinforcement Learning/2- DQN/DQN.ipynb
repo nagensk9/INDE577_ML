{
  "nbformat": 4,
  "nbformat_minor": 0,
  "metadata": {
    "colab": {
      "provenance": []
    },
    "kernelspec": {
      "name": "python3",
      "display_name": "Python 3"
    },
    "language_info": {
      "name": "python"
    }
  },
  "cells": [
    {
      "cell_type": "markdown",
      "source": [
        "# Deep Q-Networks (DQNs)"
      ],
      "metadata": {
        "id": "J8lf4H1fokId"
      }
    },
    {
      "cell_type": "markdown",
      "source": [
        "Overview"
      ],
      "metadata": {
        "id": "Nwt9chIAmWLz"
      }
    },
    {
      "cell_type": "markdown",
      "source": [
        "- The code implements a Deep Q-Network (DQN) agent that uses the Q-learning algorithm for training. \n",
        "- The DQN agent learns to play the CartPole-v0 game by interacting with the environment, storing experiences in memory, and updating a neural network model. \n",
        "- It uses experience replay to break the correlation between consecutive samples and improve training stability. The training loop runs for a specified number of episodes, and in each episode, the agent selects actions based on an epsilon-greedy strategy, observes rewards and next states, and updates the neural network model using the Q-learning update rule. Overall, the code trains a DQN agent to play the CartPole-v0 game by combining reinforcement learning principles with deep neural networks."
      ],
      "metadata": {
        "id": "DQjETuMAmVrI"
      }
    },
    {
      "cell_type": "code",
      "source": [
        "# Install necessary packages for virtual display\n",
        "!apt-get install x11-utils > /dev/null 2>&1 \n",
        "!pip install pyglet > /dev/null 2>&1 \n",
        "!apt-get install -y xvfb python-opengl > /dev/null 2>&1\n",
        "!pip install gym pyvirtualdisplay > /dev/null 2>&1\n",
        "!pip install gym"
      ],
      "metadata": {
        "id": "R-iS410sqL6Q"
      },
      "execution_count": null,
      "outputs": []
    },
    {
      "cell_type": "code",
      "source": [
        "\n",
        "!pip install tensorflow\n"
      ],
      "metadata": {
        "id": "s2X68xRnvxpD"
      },
      "execution_count": null,
      "outputs": []
    },
    {
      "cell_type": "code",
      "source": [
        "import gym\n",
        "import random\n",
        "import numpy as np\n",
        "import tensorflow as tf\n",
        "from tensorflow.keras.models import Sequential\n",
        "from tensorflow.keras.layers import Dense\n",
        "from tensorflow.keras.optimizers import Adam\n",
        "from collections import deque\n"
      ],
      "metadata": {
        "id": "04R7w1xHqUzJ"
      },
      "execution_count": null,
      "outputs": []
    },
    {
      "cell_type": "code",
      "source": [
        "# Class representing a Deep Q-Network agent\n",
        "class DQNAgent:\n",
        "    def __init__(self, state_size, action_size):\n",
        "        self.state_size = state_size\n",
        "        self.action_size = action_size\n",
        "        self.memory = deque(maxlen=2000)  # Experience replay memory\n",
        "        self.gamma = 0.95  # Discount factor for future rewards\n",
        "        self.epsilon = 1.0  # Exploration rate\n",
        "        self.epsilon_min = 0.01  # Minimum exploration rate\n",
        "        self.epsilon_decay = 0.995  # Decay rate for exploration rate\n",
        "        self.learning_rate = 0.001  # Learning rate for the neural network\n",
        "        self.model = self.build_model()  # Neural network model for Q-learning\n",
        "\n",
        "    def build_model(self):\n",
        "        # Build a neural network model using Keras\n",
        "        model = Sequential()\n",
        "        model.add(Dense(24, input_dim=self.state_size, activation='relu'))  # Input layer\n",
        "        model.add(Dense(24, activation='relu'))  # Hidden layer\n",
        "        model.add(Dense(self.action_size, activation='linear'))  # Output layer\n",
        "        model.compile(loss='mse', optimizer=Adam(lr=self.learning_rate))  # Compile the model\n",
        "        return model\n",
        "\n",
        "    def remember(self, state, action, reward, next_state, done):\n",
        "        # Store the experience in the replay memory\n",
        "        self.memory.append((state, action, reward, next_state, done))\n",
        "\n",
        "    def act(self, state):\n",
        "        # Choose an action based on epsilon-greedy strategy\n",
        "        if np.random.rand() <= self.epsilon:\n",
        "            return random.randrange(self.action_size)\n",
        "        act_values = self.model.predict(state)\n",
        "        return np.argmax(act_values[0])\n",
        "\n",
        "    def replay(self, batch_size):\n",
        "        # Experience replay - update the Q-network using stored experiences\n",
        "        minibatch = random.sample(self.memory, batch_size)\n",
        "        for state, action, reward, next_state, done in minibatch:\n",
        "            target = reward\n",
        "            if not done:\n",
        "                target = (reward + self.gamma * np.amax(self.model.predict(next_state)[0]))\n",
        "            target_f = self.model.predict(state)\n",
        "            target_f[0][action] = target\n",
        "            self.model.fit(state, target_f, epochs=1, verbose=0)\n",
        "        if self.epsilon > self.epsilon_min:\n",
        "            self.epsilon *= self.epsilon_decay\n"
      ],
      "metadata": {
        "id": "yT9dQMvrvj4x"
      },
      "execution_count": null,
      "outputs": []
    },
    {
      "cell_type": "code",
      "source": [
        "env = gym.make('CartPole-v0')\n",
        "state_size = env.observation_space.shape[0]\n",
        "action_size = env.action_space.n\n",
        "agent = DQNAgent(state_size, action_size)\n"
      ],
      "metadata": {
        "id": "-7ICGZi8th63"
      },
      "execution_count": null,
      "outputs": []
    },
    {
      "cell_type": "code",
      "source": [
        "# Set the number of episodes and batch size\n",
        "episodes = 100\n",
        "batch_size = 32\n",
        "total_rewards = []  # List to store the total rewards for each episode\n",
        "\n",
        "# Run the training loop for the specified number of episodes\n",
        "for episode in range(1, episodes + 1):\n",
        "    state = env.reset()\n",
        "    state = np.reshape(state, [1, state_size])\n",
        "    done = False\n",
        "    time = 0\n",
        "    episode_reward = 0\n",
        "    \n",
        "    # Execute the episode until a terminal state is reached\n",
        "    while not done:\n",
        "        action = agent.act(state)\n",
        "        next_state, reward, done, _ = env.step(action)\n",
        "        reward = reward if not done else -10\n",
        "        next_state = np.reshape(next_state, [1, state_size])\n",
        "        agent.remember(state, action, reward, next_state, done)\n",
        "        state = next_state\n",
        "        time += 1\n",
        "        episode_reward += reward\n",
        "\n",
        "        if done:\n",
        "            print(f\"Episode: {episode}/{episodes}, Score: {time}, Epsilon: {agent.epsilon:.2}\")\n",
        "            break\n",
        "    \n",
        "    total_rewards.append(episode_reward)  # Store the total reward for the episode\n",
        "    \n",
        "    if len(agent.memory) > batch_size:\n",
        "        agent.replay(batch_size)  # Perform the experience replay step\n"
      ],
      "metadata": {
        "id": "37xr56nEuA75"
      },
      "execution_count": null,
      "outputs": []
    },
    {
      "cell_type": "code",
      "source": [
        "average_score = np.mean(total_rewards)\n",
        "print(f\"Average Score over {episodes} Evaluation Episodes: {average_score}\")"
      ],
      "metadata": {
        "id": "y_enCV_mpdPZ",
        "colab": {
          "base_uri": "https://localhost:8080/"
        },
        "outputId": "dd1ae990-55cc-4023-f51c-caf37108317b"
      },
      "execution_count": null,
      "outputs": [
        {
          "output_type": "stream",
          "name": "stdout",
          "text": [
            "Average Score over 100 Evaluation Episodes: 15.68\n"
          ]
        }
      ]
    },
    {
      "cell_type": "markdown",
      "source": [
        "#### Conclusion"
      ],
      "metadata": {
        "id": "fiUs4Z2-m8Tp"
      }
    },
    {
      "cell_type": "markdown",
      "source": [
        "Based on the evaluation of the DQN agent over 100 episodes, the average score achieved was 15.68. This indicates that the agent was able to achieve a relatively low score on average during the evaluation episodes.\n",
        "\n",
        "The score represents the agent's ability to balance the CartPole for a longer duration during each episode. With an average score of 15.68, it suggests that the agent needs further improvement to achieve better performance and stability in playing the CartPole-v0 game."
      ],
      "metadata": {
        "id": "0e2KrxO6m8QD"
      }
    },
    {
      "cell_type": "code",
      "source": [],
      "metadata": {
        "id": "5IwrwjzirdIP"
      },
      "execution_count": null,
      "outputs": []
    }
  ]
}